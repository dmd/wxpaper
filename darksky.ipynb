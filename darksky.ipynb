{
 "cells": [
  {
   "cell_type": "code",
   "execution_count": 211,
   "metadata": {},
   "outputs": [],
   "source": [
    "from darksky.api import DarkSky, DarkSkyAsync\n",
    "from darksky.types import languages, units, weather\n",
    "API_KEY = open('darksky-secret').readline().rstrip()\n",
    "darksky = DarkSky(API_KEY)"
   ]
  },
  {
   "cell_type": "code",
   "execution_count": 212,
   "metadata": {},
   "outputs": [],
   "source": [
    "lat, lon = 42.417821,-71.177747"
   ]
  },
  {
   "cell_type": "code",
   "execution_count": 213,
   "metadata": {},
   "outputs": [],
   "source": [
    "forecast = darksky.get_forecast(lat,lon,\n",
    "                                exclude=[weather.MINUTELY, weather.ALERTS])"
   ]
  },
  {
   "cell_type": "code",
   "execution_count": 214,
   "metadata": {},
   "outputs": [],
   "source": [
    "now = forecast.currently\n",
    "today = forecast.daily.data[0]"
   ]
  },
  {
   "cell_type": "markdown",
   "metadata": {},
   "source": [
    "http://adamwhitcroft.com/climacons/\n",
    "https://www.iconsdb.com/black-icons/black-weather-icons.html\n",
    "icon possibilities are:\n",
    "clear-day\n",
    "clear-night\n",
    "rain\n",
    "snow\n",
    "sleet\n",
    "wind\n",
    "fog\n",
    "cloudy\n",
    "partly-cloudy-day\n",
    "partly-cloudy-night"
   ]
  },
  {
   "cell_type": "code",
   "execution_count": 215,
   "metadata": {},
   "outputs": [],
   "source": [
    "def clamp(n, minn, maxn):\n",
    "    return max(min(maxn, n), minn)\n",
    "\n",
    "def two_dig(n, HILO=True):\n",
    "    if HILO:\n",
    "        if n >= 100:\n",
    "            return 'HI'\n",
    "        if n < 0:\n",
    "            return 'LO'\n",
    "    return '{:02d}'.format(int(clamp(n,0,99)))\n",
    "\n",
    "def uv_one_dig(n):\n",
    "    if n > 9:\n",
    "        return '!'\n",
    "    return '{:01d}'.format(int(n))"
   ]
  },
  {
   "cell_type": "code",
   "execution_count": 216,
   "metadata": {},
   "outputs": [],
   "source": [
    "iconmap = {'clear-day': 'SUN',\n",
    "          'clear-night': 'NIGHT',\n",
    "          'cloudy': 'CLOUD',\n",
    "          'partly-cloudy-day': 'CLDAY',\n",
    "          'partly-cloudly-night': 'CLDNT'}\n",
    "\n",
    "def icon(iconsize, condition):\n",
    "    return f'{iconsize}' + iconmap.get(condition, condition.upper()) + '.PNG'"
   ]
  },
  {
   "cell_type": "code",
   "execution_count": 217,
   "metadata": {},
   "outputs": [
    {
     "data": {
      "text/plain": [
       "'53|66|50|3PARTLY-CLOUDY-NIGHT.PNG|4|2RAIN.PNG|99|Drizzle in the morning and afternoon.'"
      ]
     },
     "execution_count": 217,
     "metadata": {},
     "output_type": "execute_result"
    }
   ],
   "source": [
    "# current, high, low, current-icon, UV, worst-icon, precipprob\n",
    "payload = '|'.join([two_dig(now.apparent_temperature),\n",
    " two_dig(today.apparent_temperature_high),\n",
    " two_dig(today.apparent_temperature_low),\n",
    " icon(3, now.icon),\n",
    " uv_one_dig(today.uv_index),\n",
    " icon(2, today.icon),\n",
    " two_dig(100 * today.precip_probability, HILO=False),\n",
    " today.summary\n",
    "])\n",
    "payload"
   ]
  },
  {
   "cell_type": "code",
   "execution_count": null,
   "metadata": {},
   "outputs": [],
   "source": []
  }
 ],
 "metadata": {
  "kernelspec": {
   "display_name": "Python 3",
   "language": "python",
   "name": "python3"
  },
  "language_info": {
   "codemirror_mode": {
    "name": "ipython",
    "version": 3
   },
   "file_extension": ".py",
   "mimetype": "text/x-python",
   "name": "python",
   "nbconvert_exporter": "python",
   "pygments_lexer": "ipython3",
   "version": "3.7.0"
  }
 },
 "nbformat": 4,
 "nbformat_minor": 2
}
