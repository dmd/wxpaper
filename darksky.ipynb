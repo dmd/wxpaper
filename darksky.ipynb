{
 "cells": [
  {
   "cell_type": "code",
   "execution_count": 1,
   "metadata": {},
   "outputs": [],
   "source": [
    "from darksky.api import DarkSky, DarkSkyAsync\n",
    "from darksky.types import languages, units, weather"
   ]
  },
  {
   "cell_type": "code",
   "execution_count": 4,
   "metadata": {},
   "outputs": [],
   "source": [
    "API_KEY = open('darksky-secret').readline().rstrip()"
   ]
  },
  {
   "cell_type": "code",
   "execution_count": 5,
   "metadata": {},
   "outputs": [],
   "source": [
    "darksky = DarkSky(API_KEY)"
   ]
  },
  {
   "cell_type": "code",
   "execution_count": 77,
   "metadata": {},
   "outputs": [],
   "source": [
    "latitude = 42.417821\n",
    "longitude = -71.177747"
   ]
  },
  {
   "cell_type": "code",
   "execution_count": 78,
   "metadata": {},
   "outputs": [],
   "source": [
    "forecast = darksky.get_forecast(\n",
    "    latitude, longitude,\n",
    "    exclude=[weather.MINUTELY, weather.ALERTS])"
   ]
  },
  {
   "cell_type": "code",
   "execution_count": 80,
   "metadata": {},
   "outputs": [],
   "source": [
    "d = forecast.hourly.data[0]"
   ]
  },
  {
   "cell_type": "code",
   "execution_count": 82,
   "metadata": {},
   "outputs": [
    {
     "data": {
      "text/plain": [
       "[60.48, 58.9, 57.5, 56.91, 56.24, 55.42, 54.59, 53.88, 53.43, 52.69]"
      ]
     },
     "execution_count": 82,
     "metadata": {},
     "output_type": "execute_result"
    }
   ],
   "source": [
    "temps = [forecast.hourly.data[hour].apparent_temperature for hour in range(10)]\n",
    "temps"
   ]
  },
  {
   "cell_type": "code",
   "execution_count": 83,
   "metadata": {},
   "outputs": [
    {
     "data": {
      "text/plain": [
       "['cloudy',\n",
       " 'partly-cloudy-night',\n",
       " 'partly-cloudy-night',\n",
       " 'partly-cloudy-night',\n",
       " 'partly-cloudy-night',\n",
       " 'partly-cloudy-night',\n",
       " 'clear-night',\n",
       " 'clear-night',\n",
       " 'partly-cloudy-night',\n",
       " 'partly-cloudy-night']"
      ]
     },
     "execution_count": 83,
     "metadata": {},
     "output_type": "execute_result"
    }
   ],
   "source": [
    "icons = [forecast.hourly.data[hour].icon for hour in range(10)]\n",
    "icons"
   ]
  },
  {
   "cell_type": "code",
   "execution_count": 84,
   "metadata": {},
   "outputs": [
    {
     "data": {
      "text/plain": [
       "[0, 0, 0, 0.01, 0, 0.01, 0, 0, 0, 0]"
      ]
     },
     "execution_count": 84,
     "metadata": {},
     "output_type": "execute_result"
    }
   ],
   "source": [
    "pp = [forecast.hourly.data[hour].precip_probability for hour in range(10)]\n",
    "pp"
   ]
  },
  {
   "cell_type": "code",
   "execution_count": null,
   "metadata": {},
   "outputs": [],
   "source": []
  }
 ],
 "metadata": {
  "kernelspec": {
   "display_name": "Python 3",
   "language": "python",
   "name": "python3"
  },
  "language_info": {
   "codemirror_mode": {
    "name": "ipython",
    "version": 3
   },
   "file_extension": ".py",
   "mimetype": "text/x-python",
   "name": "python",
   "nbconvert_exporter": "python",
   "pygments_lexer": "ipython3",
   "version": "3.7.0"
  }
 },
 "nbformat": 4,
 "nbformat_minor": 2
}
