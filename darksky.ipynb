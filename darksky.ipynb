{
 "cells": [
  {
   "cell_type": "code",
   "execution_count": 32,
   "metadata": {},
   "outputs": [],
   "source": [
    "from darksky.api import DarkSky, DarkSkyAsync\n",
    "from darksky.types import languages, units, weather\n",
    "API_KEY = open('darksky-secret').readline().rstrip()\n",
    "darksky = DarkSky(API_KEY)\n",
    "from datetime import timedelta,datetime,date\n",
    "import pytz"
   ]
  },
  {
   "cell_type": "code",
   "execution_count": 4,
   "metadata": {},
   "outputs": [],
   "source": [
    "lat, lon = 42.417821,-71.177747"
   ]
  },
  {
   "cell_type": "code",
   "execution_count": 5,
   "metadata": {},
   "outputs": [],
   "source": [
    "forecast = darksky.get_forecast(lat,lon,\n",
    "                                exclude=[weather.MINUTELY, weather.ALERTS])"
   ]
  },
  {
   "cell_type": "code",
   "execution_count": 6,
   "metadata": {},
   "outputs": [],
   "source": [
    "now = forecast.currently\n",
    "today = forecast.daily.data[0]"
   ]
  },
  {
   "cell_type": "markdown",
   "metadata": {},
   "source": [
    "http://adamwhitcroft.com/climacons/\n",
    "https://www.iconsdb.com/black-icons/black-weather-icons.html\n",
    "icon possibilities are:\n",
    "clear-day\n",
    "clear-night\n",
    "rain\n",
    "snow\n",
    "sleet\n",
    "wind\n",
    "fog\n",
    "cloudy\n",
    "partly-cloudy-day\n",
    "partly-cloudy-night"
   ]
  },
  {
   "cell_type": "code",
   "execution_count": 7,
   "metadata": {},
   "outputs": [],
   "source": [
    "def clamp(n, minn, maxn):\n",
    "    return max(min(maxn, n), minn)\n",
    "\n",
    "def two_dig(n, HILO=True):\n",
    "    if HILO:\n",
    "        if n >= 100:\n",
    "            return 'HI'\n",
    "        if n < 0:\n",
    "            return 'LO'\n",
    "    return '{:02d}'.format(int(clamp(n,0,99)))\n",
    "\n",
    "def uv_one_dig(n):\n",
    "    if n > 9:\n",
    "        return '!'\n",
    "    return '{:01d}'.format(int(n))"
   ]
  },
  {
   "cell_type": "code",
   "execution_count": 8,
   "metadata": {},
   "outputs": [],
   "source": [
    "iconmap = {'clear-day': 'SUN',\n",
    "          'clear-night': 'NIGHT',\n",
    "          'cloudy': 'CLOUD',\n",
    "          'partly-cloudy-day': 'CLDAY',\n",
    "          'partly-cloudly-night': 'CLDNT'}\n",
    "\n",
    "def icon(iconsize, condition):\n",
    "    return f'{iconsize}' + iconmap.get(condition, condition.upper()) + '.PNG'"
   ]
  },
  {
   "cell_type": "code",
   "execution_count": 9,
   "metadata": {},
   "outputs": [
    {
     "data": {
      "text/plain": [
       "'78|79|58|3CLDAY.PNG|6|2RAIN.PNG|94|Clear throughout the day.'"
      ]
     },
     "execution_count": 9,
     "metadata": {},
     "output_type": "execute_result"
    }
   ],
   "source": [
    "# current, high, low, current-icon, UV, worst-icon, precipprob\n",
    "payload = '|'.join([two_dig(now.apparent_temperature),\n",
    " two_dig(today.apparent_temperature_high),\n",
    " two_dig(today.apparent_temperature_low),\n",
    " icon(3, now.icon),\n",
    " uv_one_dig(today.uv_index),\n",
    " icon(2, today.icon),\n",
    " two_dig(100 * today.precip_probability, HILO=False),\n",
    " today.summary\n",
    "])\n",
    "payload"
   ]
  },
  {
   "cell_type": "code",
   "execution_count": 10,
   "metadata": {},
   "outputs": [],
   "source": [
    "hourly = forecast.hourly.data"
   ]
  },
  {
   "cell_type": "code",
   "execution_count": 11,
   "metadata": {},
   "outputs": [],
   "source": [
    "t = hourly[1]"
   ]
  },
  {
   "cell_type": "code",
   "execution_count": 12,
   "metadata": {},
   "outputs": [
    {
     "data": {
      "text/plain": [
       "<darksky.forecast.HourlyForecastItem at 0x1119c0400>"
      ]
     },
     "execution_count": 12,
     "metadata": {},
     "output_type": "execute_result"
    }
   ],
   "source": [
    "t"
   ]
  },
  {
   "cell_type": "code",
   "execution_count": 17,
   "metadata": {},
   "outputs": [
    {
     "data": {
      "text/plain": [
       "[datetime.datetime(2019, 9, 15, 14, 0, tzinfo=<DstTzInfo 'America/New_York' EDT-1 day, 20:00:00 DST>),\n",
       " datetime.datetime(2019, 9, 15, 15, 0, tzinfo=<DstTzInfo 'America/New_York' EDT-1 day, 20:00:00 DST>),\n",
       " datetime.datetime(2019, 9, 15, 16, 0, tzinfo=<DstTzInfo 'America/New_York' EDT-1 day, 20:00:00 DST>),\n",
       " datetime.datetime(2019, 9, 15, 17, 0, tzinfo=<DstTzInfo 'America/New_York' EDT-1 day, 20:00:00 DST>),\n",
       " datetime.datetime(2019, 9, 15, 18, 0, tzinfo=<DstTzInfo 'America/New_York' EDT-1 day, 20:00:00 DST>),\n",
       " datetime.datetime(2019, 9, 15, 19, 0, tzinfo=<DstTzInfo 'America/New_York' EDT-1 day, 20:00:00 DST>),\n",
       " datetime.datetime(2019, 9, 15, 20, 0, tzinfo=<DstTzInfo 'America/New_York' EDT-1 day, 20:00:00 DST>),\n",
       " datetime.datetime(2019, 9, 15, 21, 0, tzinfo=<DstTzInfo 'America/New_York' EDT-1 day, 20:00:00 DST>),\n",
       " datetime.datetime(2019, 9, 15, 22, 0, tzinfo=<DstTzInfo 'America/New_York' EDT-1 day, 20:00:00 DST>),\n",
       " datetime.datetime(2019, 9, 15, 23, 0, tzinfo=<DstTzInfo 'America/New_York' EDT-1 day, 20:00:00 DST>),\n",
       " datetime.datetime(2019, 9, 16, 0, 0, tzinfo=<DstTzInfo 'America/New_York' EDT-1 day, 20:00:00 DST>),\n",
       " datetime.datetime(2019, 9, 16, 1, 0, tzinfo=<DstTzInfo 'America/New_York' EDT-1 day, 20:00:00 DST>),\n",
       " datetime.datetime(2019, 9, 16, 2, 0, tzinfo=<DstTzInfo 'America/New_York' EDT-1 day, 20:00:00 DST>),\n",
       " datetime.datetime(2019, 9, 16, 3, 0, tzinfo=<DstTzInfo 'America/New_York' EDT-1 day, 20:00:00 DST>),\n",
       " datetime.datetime(2019, 9, 16, 4, 0, tzinfo=<DstTzInfo 'America/New_York' EDT-1 day, 20:00:00 DST>)]"
      ]
     },
     "execution_count": 17,
     "metadata": {},
     "output_type": "execute_result"
    }
   ],
   "source": [
    "[x.time for x in hourly][:15]"
   ]
  },
  {
   "cell_type": "code",
   "execution_count": 64,
   "metadata": {},
   "outputs": [
    {
     "data": {
      "text/plain": [
       "datetime.datetime(2019, 9, 15, 23, 0, tzinfo=<DstTzInfo 'America/New_York' LMT-1 day, 19:04:00 STD>)"
      ]
     },
     "execution_count": 64,
     "metadata": {},
     "output_type": "execute_result"
    }
   ],
   "source": [
    "midnight = (datetime.combine(date.today(), datetime.min.time())+timedelta(days=1,hours=-1)).replace(tzinfo=pytz.timezone('America/New_York'))\n",
    "midnight"
   ]
  },
  {
   "cell_type": "code",
   "execution_count": 65,
   "metadata": {},
   "outputs": [
    {
     "data": {
      "text/plain": [
       "[datetime.datetime(2019, 9, 15, 14, 0, tzinfo=<DstTzInfo 'America/New_York' EDT-1 day, 20:00:00 DST>),\n",
       " datetime.datetime(2019, 9, 15, 15, 0, tzinfo=<DstTzInfo 'America/New_York' EDT-1 day, 20:00:00 DST>),\n",
       " datetime.datetime(2019, 9, 15, 16, 0, tzinfo=<DstTzInfo 'America/New_York' EDT-1 day, 20:00:00 DST>),\n",
       " datetime.datetime(2019, 9, 15, 17, 0, tzinfo=<DstTzInfo 'America/New_York' EDT-1 day, 20:00:00 DST>),\n",
       " datetime.datetime(2019, 9, 15, 18, 0, tzinfo=<DstTzInfo 'America/New_York' EDT-1 day, 20:00:00 DST>),\n",
       " datetime.datetime(2019, 9, 15, 19, 0, tzinfo=<DstTzInfo 'America/New_York' EDT-1 day, 20:00:00 DST>),\n",
       " datetime.datetime(2019, 9, 15, 20, 0, tzinfo=<DstTzInfo 'America/New_York' EDT-1 day, 20:00:00 DST>),\n",
       " datetime.datetime(2019, 9, 15, 21, 0, tzinfo=<DstTzInfo 'America/New_York' EDT-1 day, 20:00:00 DST>),\n",
       " datetime.datetime(2019, 9, 15, 22, 0, tzinfo=<DstTzInfo 'America/New_York' EDT-1 day, 20:00:00 DST>),\n",
       " datetime.datetime(2019, 9, 15, 23, 0, tzinfo=<DstTzInfo 'America/New_York' EDT-1 day, 20:00:00 DST>)]"
      ]
     },
     "execution_count": 65,
     "metadata": {},
     "output_type": "execute_result"
    }
   ],
   "source": [
    "[x.time for x in hourly if x.time < midnight]"
   ]
  },
  {
   "cell_type": "code",
   "execution_count": 39,
   "metadata": {},
   "outputs": [
    {
     "data": {
      "text/plain": [
       "datetime.datetime(2019, 9, 16, 0, 0, tzinfo=<UTC>)"
      ]
     },
     "execution_count": 39,
     "metadata": {},
     "output_type": "execute_result"
    }
   ],
   "source": [
    "midnight.replace(midnight, pytz.timezone('America/New_York'))"
   ]
  },
  {
   "cell_type": "code",
   "execution_count": 66,
   "metadata": {},
   "outputs": [
    {
     "data": {
      "text/plain": [
       "datetime.datetime(2019, 9, 15, 23, 0, tzinfo=<DstTzInfo 'America/New_York' LMT-1 day, 19:04:00 STD>)"
      ]
     },
     "execution_count": 66,
     "metadata": {},
     "output_type": "execute_result"
    }
   ],
   "source": [
    "midnight"
   ]
  },
  {
   "cell_type": "code",
   "execution_count": 67,
   "metadata": {},
   "outputs": [
    {
     "data": {
      "text/plain": [
       "15"
      ]
     },
     "execution_count": 67,
     "metadata": {},
     "output_type": "execute_result"
    }
   ],
   "source": [
    "midnight.day"
   ]
  },
  {
   "cell_type": "code",
   "execution_count": 74,
   "metadata": {},
   "outputs": [],
   "source": [
    "rest_of_day = [x for x in hourly if x.time.day == datetime.now().day]"
   ]
  },
  {
   "cell_type": "code",
   "execution_count": 75,
   "metadata": {},
   "outputs": [
    {
     "data": {
      "text/plain": [
       "['clear-day',\n",
       " 'partly-cloudy-day',\n",
       " 'clear-day',\n",
       " 'clear-day',\n",
       " 'clear-day',\n",
       " 'clear-night',\n",
       " 'clear-night',\n",
       " 'clear-night',\n",
       " 'partly-cloudy-night',\n",
       " 'partly-cloudy-night']"
      ]
     },
     "execution_count": 75,
     "metadata": {},
     "output_type": "execute_result"
    }
   ],
   "source": [
    "[x.icon for x in rest_of_day]"
   ]
  },
  {
   "cell_type": "code",
   "execution_count": 76,
   "metadata": {},
   "outputs": [],
   "source": [
    "x=rest_of_day[0]"
   ]
  },
  {
   "cell_type": "code",
   "execution_count": 77,
   "metadata": {},
   "outputs": [
    {
     "data": {
      "text/plain": [
       "<darksky.forecast.HourlyForecastItem at 0x1119c0470>"
      ]
     },
     "execution_count": 77,
     "metadata": {},
     "output_type": "execute_result"
    }
   ],
   "source": [
    "x"
   ]
  },
  {
   "cell_type": "code",
   "execution_count": 83,
   "metadata": {},
   "outputs": [
    {
     "data": {
      "text/plain": [
       "(64.97, 79.55)"
      ]
     },
     "execution_count": 83,
     "metadata": {},
     "output_type": "execute_result"
    }
   ],
   "source": [
    "min([x.apparent_temperature for x in rest_of_day]) , max([x.apparent_temperature for x in rest_of_day])"
   ]
  },
  {
   "cell_type": "code",
   "execution_count": 86,
   "metadata": {},
   "outputs": [],
   "source": [
    "def worst(conditions):\n",
    "    priority = ['snow',\n",
    "'sleet',\n",
    "'rain',\n",
    "'fog',\n",
    "'wind',\n",
    "'cloudy',\n",
    "'partly-cloudy-day',\n",
    "'clear-day',\n",
    "'partly-cloudy-night',\n",
    "'clear-night',\n",
    "]\n",
    "    for p in priority:\n",
    "        if p in conditions:\n",
    "            return p"
   ]
  },
  {
   "cell_type": "code",
   "execution_count": 87,
   "metadata": {},
   "outputs": [
    {
     "data": {
      "text/plain": [
       "<darksky.forecast.HourlyForecastItem at 0x1119c0470>"
      ]
     },
     "execution_count": 87,
     "metadata": {},
     "output_type": "execute_result"
    }
   ],
   "source": [
    "x"
   ]
  },
  {
   "cell_type": "code",
   "execution_count": 89,
   "metadata": {},
   "outputs": [
    {
     "data": {
      "text/plain": [
       "'partly-cloudy-day'"
      ]
     },
     "execution_count": 89,
     "metadata": {},
     "output_type": "execute_result"
    }
   ],
   "source": [
    "worst([x.icon for x in rest_of_day])"
   ]
  },
  {
   "cell_type": "code",
   "execution_count": null,
   "metadata": {},
   "outputs": [],
   "source": []
  }
 ],
 "metadata": {
  "kernelspec": {
   "display_name": "Python 3",
   "language": "python",
   "name": "python3"
  },
  "language_info": {
   "codemirror_mode": {
    "name": "ipython",
    "version": 3
   },
   "file_extension": ".py",
   "mimetype": "text/x-python",
   "name": "python",
   "nbconvert_exporter": "python",
   "pygments_lexer": "ipython3",
   "version": "3.7.0"
  }
 },
 "nbformat": 4,
 "nbformat_minor": 2
}
